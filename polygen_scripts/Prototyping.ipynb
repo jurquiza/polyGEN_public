{
 "cells": [
  {
   "cell_type": "markdown",
   "metadata": {},
   "source": [
    "# Logic for the Prime Editing responses "
   ]
  },
  {
   "cell_type": "code",
   "execution_count": 58,
   "metadata": {},
   "outputs": [],
   "source": [
    "from engine_v2_1 import *"
   ]
  },
  {
   "cell_type": "code",
   "execution_count": 59,
   "metadata": {},
   "outputs": [
    {
     "data": {
      "text/plain": [
       "'atggtgagcaagggcgaggagctgttcaccggggtggtgcccatcctggtcgagctggacggcgacgtaaacggccacaagttcagcgtgtccggcgagggcgagggcgatgccacctacggcaagctgaccctgaagttcatctgcaccaccggcaagctgcccgtgccctggcccaccctcgtgaccaccctgacccacggcgtgcagtgcttcagccgctaccccgaccacatgaagcagcacgacttcttcaagtccgccatgcccgaaggctacgtccaggagcgcaccatcttcttcaaggacgacggcaactacaagacccgcgccgaggtgaagttcgagggcgacaccctggtgaaccgcatcgagctgaagggcatcgacttcaaggaggacggcaacatcctggggcacaagctggagtacaactacaacagccacaacgtctatatcatggccgacaagcagaagaacggcatcaaggtgaacttcaagatccgccacaacatcgaggacggcagcgtgcagctcgccgaccactaccagcagaacacccccatcggcgacggccccgtgctgctgcccgacaaccactacctgagcacccagtccaagctgagcaaagaccccaacgagaagcgcgatcacatggtcctgctggagttcgtgaccgccgccgggatcactctcggcatggacgagctgtacaagtaa'"
      ]
     },
     "execution_count": 59,
     "metadata": {},
     "output_type": "execute_result"
    }
   ],
   "source": [
    "#EGFP sequence from benchling\n",
    "sequence = \"\"\"atggtgagcaagggcgaggagctgttcaccggggtggtgcccatcctggtcg\n",
    "agctggacggcgacgtaaacggccacaagttcagcgtgtccggcgagggcgagggcgatgcca\n",
    "cctacggcaagctgaccctgaagttcatctgcaccaccggcaagctgcccgtgccctggcccacc\n",
    "ctcgtgaccaccctgacccacggcgtgcagtgcttcagccgctaccccgaccacatgaagcagcac\n",
    "gacttcttcaagtccgccatgcccgaaggctacgtccaggagcgcaccatcttcttcaaggacgac\n",
    "ggcaactacaagacccgcgccgaggtgaagttcgagggcgacaccctggtgaaccgcatcgagctgaa\n",
    "gggcatcgacttcaaggaggacggcaacatcctggggcacaagctggagtacaactacaacagccacaa\n",
    "cgtctatatcatggccgacaagcagaagaacggcatcaaggtgaacttcaagatccgccacaacatcga\n",
    "ggacggcagcgtgcagctcgccgaccactaccagcagaacacccccatcggcgacggccccgtgctgct\n",
    "gcccgacaaccactacctgagcacccagtccaagctgagcaaagaccccaacgagaagcgcgatcacat\n",
    "ggtcctgctggagttcgtgaccgccgccgggatcactctcggcatggacgagctgtacaagtaa\"\"\"\n",
    "sequence = ''.join(sequence.split('\\n'))\n",
    "sequence"
   ]
  },
  {
   "cell_type": "code",
   "execution_count": 60,
   "metadata": {},
   "outputs": [],
   "source": [
    "edit = '201;T;mut'"
   ]
  },
  {
   "cell_type": "code",
   "execution_count": 61,
   "metadata": {},
   "outputs": [
    {
     "data": {
      "text/plain": [
       "[['201', 'T', 'mut']]"
      ]
     },
     "execution_count": 61,
     "metadata": {},
     "output_type": "execute_result"
    }
   ],
   "source": [
    "edit = edit.split(';')\n",
    "#determines if the edits are for the correct length\n",
    "if len(edit) % 3:\n",
    "    print('Incorrect')\n",
    "else:\n",
    "    number_of_edits = len(edit)/3\n",
    "    edits_list = []\n",
    "    for num_ed in range(0,int(len(edit)/3)):\n",
    "        edits_list.append([edit[0+3*num_ed],edit[1+3*num_ed],edit[2+3*num_ed]])\n",
    "        \n",
    "edits_list\n",
    "    "
   ]
  },
  {
   "cell_type": "code",
   "execution_count": 64,
   "metadata": {},
   "outputs": [
    {
     "name": "stdout",
     "output_type": "stream",
     "text": [
      "[['pegRNA0', 'pegRNA', 'CTCGTGACCACCCTGACCCAGTTTTAGAGCTAGAAATAGCAAGTTAAAATAAGGCTAGTCCGTTATCAACTTGAAAAAGTGGCACCGAGTCGGTGCACTGCACGCAGTGGGTCAGGGTGGTCA', 'f']]\n"
     ]
    },
    {
     "data": {
      "text/plain": [
       "NoneType"
      ]
     },
     "execution_count": 64,
     "metadata": {},
     "output_type": "execute_result"
    }
   ],
   "source": [
    "print(pegbldr(sequence,edits_list))"
   ]
  },
  {
   "cell_type": "code",
   "execution_count": 49,
   "metadata": {},
   "outputs": [
    {
     "data": {
      "text/plain": [
       "720"
      ]
     },
     "execution_count": 49,
     "metadata": {},
     "output_type": "execute_result"
    }
   ],
   "source": [
    "len(sequence)"
   ]
  },
  {
   "cell_type": "code",
   "execution_count": null,
   "metadata": {},
   "outputs": [],
   "source": []
  }
 ],
 "metadata": {
  "kernelspec": {
   "display_name": "Python 3",
   "language": "python",
   "name": "python3"
  },
  "language_info": {
   "codemirror_mode": {
    "name": "ipython",
    "version": 3
   },
   "file_extension": ".py",
   "mimetype": "text/x-python",
   "name": "python",
   "nbconvert_exporter": "python",
   "pygments_lexer": "ipython3",
   "version": "3.6.9"
  }
 },
 "nbformat": 4,
 "nbformat_minor": 4
}
